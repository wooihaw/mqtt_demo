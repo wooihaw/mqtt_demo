{
 "cells": [
  {
   "cell_type": "code",
   "execution_count": null,
   "metadata": {},
   "outputs": [],
   "source": [
    "import paho.mqtt.client as paho\n",
    "\n",
    "\n",
    "def on_connect(self, client, userdata, rc):  # callback function for connect\n",
    "    print(f\"Connected with result code: {str(rc)}\")\n",
    "\n",
    "\n",
    "def on_subscribe(client, userdata, mid, granted_qos):  # callback function for subscribe\n",
    "    print(f\"Subscribed with QOS: {granted_qos}\")\n",
    "\n",
    "\n",
    "def on_message(client, userdata, msg):  # callback function for message\n",
    "    print(f\"Topic:  {msg.topic}\", f\"Message: {str(msg.payload)}\", sep=\"\\n\")\n",
    "\n",
    "\n",
    "broker = \"test.mosquitto.org\"\n",
    "port = 1883\n",
    "topic = \"ESD2/temperature\"\n",
    "\n",
    "client1 = paho.Client(\"sub1\")  # create client object\n",
    "client1.on_connect = on_connect  # assign callback function for connect\n",
    "client1.on_subscribe = on_subscribe  # assign callback function for subscribe\n",
    "client1.on_message = on_message  # assign callback function for message\n",
    "client1.connect(broker, port)  # establish connection\n",
    "client1.subscribe(topic, 0)  # subscribe\n",
    "client1.loop_forever()  # wait for message\n"
   ]
  },
  {
   "cell_type": "code",
   "execution_count": null,
   "metadata": {},
   "outputs": [],
   "source": []
  }
 ],
 "metadata": {
  "kernelspec": {
   "display_name": "Python 3",
   "language": "python",
   "name": "python3"
  },
  "language_info": {
   "codemirror_mode": {
    "name": "ipython",
    "version": 3
   },
   "file_extension": ".py",
   "mimetype": "text/x-python",
   "name": "python",
   "nbconvert_exporter": "python",
   "pygments_lexer": "ipython3",
   "version": "3.8.5"
  }
 },
 "nbformat": 4,
 "nbformat_minor": 4
}
