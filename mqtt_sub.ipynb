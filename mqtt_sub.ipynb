{
  "nbformat": 4,
  "nbformat_minor": 0,
  "metadata": {
    "kernelspec": {
      "display_name": "Python 3",
      "language": "python",
      "name": "python3"
    },
    "language_info": {
      "codemirror_mode": {
        "name": "ipython",
        "version": 3
      },
      "file_extension": ".py",
      "mimetype": "text/x-python",
      "name": "python",
      "nbconvert_exporter": "python",
      "pygments_lexer": "ipython3",
      "version": "3.8.5"
    },
    "colab": {
      "name": "mqtt_sub.ipynb",
      "provenance": [],
      "include_colab_link": true
    }
  },
  "cells": [
    {
      "cell_type": "markdown",
      "metadata": {
        "id": "view-in-github",
        "colab_type": "text"
      },
      "source": [
        "<a href=\"https://colab.research.google.com/github/wooihaw/mqtt_demo/blob/main/mqtt_sub.ipynb\" target=\"_parent\"><img src=\"https://colab.research.google.com/assets/colab-badge.svg\" alt=\"Open In Colab\"/></a>"
      ]
    },
    {
      "cell_type": "code",
      "metadata": {
        "id": "KRDBArHeWbhN"
      },
      "source": [
        "pip install paho-mqtt"
      ],
      "execution_count": null,
      "outputs": []
    },
    {
      "cell_type": "code",
      "metadata": {
        "id": "o0kqFpi2WSGZ"
      },
      "source": [
        "# Import the paho.mqtt.client module to use the MQTT protocol\n",
        "import paho.mqtt.client as paho\n",
        "\n",
        "# Import randint from the random module to generate random integers\n",
        "from random import randint\n",
        "\n",
        "# Define a callback function to be called when a connection is made to the broker\n",
        "def on_connect(self, client, userdata, rc):\n",
        "    # Print the result code of the connection\n",
        "    print(f\"Connected with result code: {str(rc)}\")\n",
        "\n",
        "# Define a callback function to be called when a subscription is made\n",
        "def on_subscribe(client, userdata, mid, granted_qos):\n",
        "    # Print the QoS level of the subscription\n",
        "    print(f\"Subscribed with QOS: {granted_qos}\")\n",
        "\n",
        "# Define a callback function to be called when a message is received\n",
        "def on_message(client, userdata, msg):\n",
        "    # Print the topic and payload of the received message\n",
        "    print(f\"Topic: {msg.topic}, Message: {msg.payload.decode()}\")\n",
        "\n",
        "broker = \"test.mosquitto.org\"  # Set the broker's address\n",
        "port = 1883  # Set the broker's port\n",
        "topic = \"myiot_123/temperature\"  # Set the topic to subscribe\n",
        "\n",
        "# Create an MQTT client instance with a random integer as part of its ID\n",
        "client1 = paho.Client(f\"sub{randint(1, 1000):04}\")\n",
        "client1.on_connect = on_connect  # Assign the callback function for connection\n",
        "client1.on_subscribe = on_subscribe  # Assign the callback function for subscription\n",
        "client1.on_message = on_message  # Assign the callback function for message reception\n",
        "client1.connect(broker, port)  # Connect to the MQTT broker\n",
        "client1.subscribe(topic)  # Subscribe to the topic\n",
        "client1.loop_forever()  # Start the network loop and wait for messages.\n"
      ],
      "execution_count": null,
      "outputs": []
    },
    {
      "cell_type": "code",
      "metadata": {
        "id": "jJjKRj0WWSGb"
      },
      "source": [],
      "execution_count": null,
      "outputs": []
    }
  ]
}