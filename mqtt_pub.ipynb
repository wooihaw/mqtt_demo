{
  "nbformat": 4,
  "nbformat_minor": 0,
  "metadata": {
    "kernelspec": {
      "display_name": "Python 3",
      "language": "python",
      "name": "python3"
    },
    "language_info": {
      "codemirror_mode": {
        "name": "ipython",
        "version": 3
      },
      "file_extension": ".py",
      "mimetype": "text/x-python",
      "name": "python",
      "nbconvert_exporter": "python",
      "pygments_lexer": "ipython3",
      "version": "3.8.5"
    },
    "colab": {
      "name": "mqtt_pub.ipynb",
      "provenance": [],
      "include_colab_link": true
    }
  },
  "cells": [
    {
      "cell_type": "markdown",
      "metadata": {
        "id": "view-in-github",
        "colab_type": "text"
      },
      "source": [
        "<a href=\"https://colab.research.google.com/github/wooihaw/mqtt_demo/blob/main/mqtt_pub.ipynb\" target=\"_parent\"><img src=\"https://colab.research.google.com/assets/colab-badge.svg\" alt=\"Open In Colab\"/></a>"
      ]
    },
    {
      "cell_type": "code",
      "metadata": {
        "id": "7Hew_Jf3W-eh"
      },
      "source": [
        "pip install paho-mqtt"
      ],
      "execution_count": null,
      "outputs": []
    },
    {
      "cell_type": "code",
      "metadata": {
        "id": "yQm_wKo9W9W5"
      },
      "source": [
        "# Import the paho.mqtt.client module to use the MQTT protocol\n",
        "import paho.mqtt.client as paho\n",
        "\n",
        "# Import sleep from the time module to pause the program for a set time\n",
        "from time import sleep\n",
        "\n",
        "# Import randint from the random module to generate random integers\n",
        "from random import randint\n",
        "\n",
        "# Define a function to be called when a message is published\n",
        "def on_publish(client, userdata, result):\n",
        "    # Print the temperature data that was published\n",
        "    print(f\"Data published: {temp}\")\n",
        "\n",
        "\n",
        "broker = \"test.mosquitto.org\" # Set the broker's\n",
        "port = 1883  # Set the broker'sport\n",
        "topic = \"myiot_123/temperature\"  # Set the topic to publish\n",
        "\n",
        "# Create an MQTT client instance with a random integer as part of its ID\n",
        "client1 = paho.Client(f\"pub{randint(1, 1000):04}\") \n",
        "client1.on_publish = on_publish  # Set callback function for publish\n",
        "client1.connect(broker, port)  # Connect to the MQTT broker\n",
        "\n",
        "# Start an infinite loop\n",
        "while True:\n",
        "    temp = randint(20, 30)  # Generate a random temperature between 20 and 30\n",
        "    ret = client1.publish(topic, temp)  # Publish the temperature\n",
        "    sleep(5)  # Pause for 5 seconds before the next iteration\n"
      ],
      "execution_count": null,
      "outputs": []
    },
    {
      "cell_type": "code",
      "metadata": {
        "id": "YU2-lUvcW9W7"
      },
      "source": [],
      "execution_count": null,
      "outputs": []
    }
  ]
}