{
  "nbformat": 4,
  "nbformat_minor": 0,
  "metadata": {
    "kernelspec": {
      "display_name": "Python 3",
      "language": "python",
      "name": "python3"
    },
    "language_info": {
      "codemirror_mode": {
        "name": "ipython",
        "version": 3
      },
      "file_extension": ".py",
      "mimetype": "text/x-python",
      "name": "python",
      "nbconvert_exporter": "python",
      "pygments_lexer": "ipython3",
      "version": "3.8.5"
    },
    "colab": {
      "name": "mqtt_pub.ipynb",
      "provenance": [],
      "include_colab_link": true
    }
  },
  "cells": [
    {
      "cell_type": "markdown",
      "metadata": {
        "id": "view-in-github",
        "colab_type": "text"
      },
      "source": [
        "<a href=\"https://colab.research.google.com/github/wooihaw/mqtt_demo/blob/main/mqtt_pub.ipynb\" target=\"_parent\"><img src=\"https://colab.research.google.com/assets/colab-badge.svg\" alt=\"Open In Colab\"/></a>"
      ]
    },
    {
      "cell_type": "code",
      "metadata": {
        "id": "7Hew_Jf3W-eh"
      },
      "source": [
        "pip install paho-mqtt"
      ],
      "execution_count": null,
      "outputs": []
    },
    {
      "cell_type": "code",
      "metadata": {
        "id": "yQm_wKo9W9W5"
      },
      "source": [
        "import paho.mqtt.client as paho\n",
        "from time import sleep\n",
        "from random import randint\n",
        "\n",
        "\n",
        "def on_publish(client, userdata, result):  # callback function for publish\n",
        "    global temp\n",
        "    print(f\"Data published: {temp}\")\n",
        "\n",
        "\n",
        "broker = \"test.mosquitto.org\"\n",
        "port = 1883\n",
        "topic = \"ESD2/temperature\"\n",
        "\n",
        "client1 = paho.Client(\"pub1\")  # create client object\n",
        "client1.on_publish = on_publish  # assign callback function\n",
        "client1.connect(broker, port)  # establish connection\n",
        "\n",
        "while True:\n",
        "    temp = randint(20, 30)\n",
        "    ret = client1.publish(topic, temp)  # publish\n",
        "    sleep(5)  # wait 5 seconds\n"
      ],
      "execution_count": null,
      "outputs": []
    },
    {
      "cell_type": "code",
      "metadata": {
        "id": "YU2-lUvcW9W7"
      },
      "source": [
        ""
      ],
      "execution_count": null,
      "outputs": []
    }
  ]
}