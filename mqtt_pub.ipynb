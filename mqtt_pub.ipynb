{
 "cells": [
  {
   "cell_type": "code",
   "execution_count": null,
   "metadata": {},
   "outputs": [],
   "source": [
    "import paho.mqtt.client as paho\n",
    "from time import sleep\n",
    "from random import randint\n",
    "\n",
    "\n",
    "def on_publish(client, userdata, result):  # callback function for publish\n",
    "    global temp\n",
    "    print(f\"Data published: {temp}\")\n",
    "\n",
    "\n",
    "broker = \"test.mosquitto.org\"\n",
    "port = 1883\n",
    "topic = \"ESD2/temperature\"\n",
    "\n",
    "client1 = paho.Client(\"pub1\")  # create client object\n",
    "client1.on_publish = on_publish  # assign callback function\n",
    "client1.connect(broker, port)  # establish connection\n",
    "\n",
    "while True:\n",
    "    temp = randint(20, 30)\n",
    "    ret = client1.publish(topic, temp)  # publish\n",
    "    sleep(5)  # wait 5 seconds\n"
   ]
  },
  {
   "cell_type": "code",
   "execution_count": null,
   "metadata": {},
   "outputs": [],
   "source": []
  }
 ],
 "metadata": {
  "kernelspec": {
   "display_name": "Python 3",
   "language": "python",
   "name": "python3"
  },
  "language_info": {
   "codemirror_mode": {
    "name": "ipython",
    "version": 3
   },
   "file_extension": ".py",
   "mimetype": "text/x-python",
   "name": "python",
   "nbconvert_exporter": "python",
   "pygments_lexer": "ipython3",
   "version": "3.8.5"
  }
 },
 "nbformat": 4,
 "nbformat_minor": 4
}
